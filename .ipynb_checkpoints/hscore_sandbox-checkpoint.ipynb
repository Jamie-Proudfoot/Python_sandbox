{
 "cells": [
  {
   "cell_type": "code",
   "execution_count": 1,
   "id": "7f3a9b0a",
   "metadata": {},
   "outputs": [],
   "source": [
    "import numpy as np"
   ]
  },
  {
   "cell_type": "code",
   "execution_count": 3,
   "id": "9c5b741b",
   "metadata": {},
   "outputs": [],
   "source": [
    "# Original code. Author: YaojieBao. Github: https://github.com/YaojieBao/An-Information-theoretic-Metric-of-Transferability\n",
    "\n",
    "# Comments added here. Author: JamieProudfoot.\n",
    "\n",
    "# Helper function for covariance\n",
    "def getCov(X):\n",
    "    X_mean=X-np.mean(X,axis=0,keepdims=True)\n",
    "    cov = np.divide(np.dot(X_mean.T, X_mean), len(X)-1) \n",
    "    return cov\n",
    "# Can just replace this with np.cov(X.T)\n",
    "\n",
    "# H-score function\n",
    "def getHscore(f,Z):\n",
    "    # Overall covariance for f\n",
    "    Covf=getCov(f)\n",
    "    # Covf=np.cov(f.T) # using numpy\n",
    "    # List of class labels\n",
    "    alphabetZ=list(set(Z))\n",
    "    # Initialise g (replace with g=np.zeros_like(f,dtype=np.float64)) because default data type is int or dtype=int\n",
    "    # Can replace with g=np.zeros(f.shape())\n",
    "    g=np.zeros_like(f)\n",
    "    for z in alphabetZ:\n",
    "        Ef_z=np.mean(f[Z==z, :], axis=0)\n",
    "        g[Z==z]=Ef_z\n",
    "    # Assuming f is a n*d matrix (data by features). Rows = data points, Columns = features\n",
    "    # Inter-class covariance for f\n",
    "    Covg=getCov(g)\n",
    "    # Covg=np.cov(g.T) # using numpy\n",
    "    # H-score as defined by the equation in the paper (Definition 2, Bao, Yaojie, et al. (2019).)\n",
    "    score=np.trace(np.dot(np.linalg.pinv(Covf,rcond=1e-15), Covg)) # rcond=1e-15 is the default value in pinv\n",
    "    return score\n"
   ]
  },
  {
   "cell_type": "code",
   "execution_count": null,
   "id": "b129fd47",
   "metadata": {},
   "outputs": [],
   "source": [
    "# Modified code (verbose). Author: JamieProudfoot.\n",
    "\n",
    "def getHscore(f,Z): \n",
    "    \"\"\"\n",
    "    Function to calculate H-score\n",
    "    f :: 'feature function' (n*d matrix)\n",
    "    Z :: class labels (k vector)\n",
    "    returns hscore :: numerical measure of feature label association\n",
    "    verbose version\n",
    "    \"\"\"\n",
    "    # Overall covariance for f\n",
    "    Covf = np.cov(f.T)\n",
    "    # Average of f over k classes\n",
    "    g=np.zeros_like(f,dtype=np.float64)\n",
    "    for z in alphabetZ: g[Z==z]=np.mean(f[Z==z],axis=0)\n",
    "    # Inter-class covariance for f\n",
    "    Covg = np.cov(g.T)\n",
    "    # H-score as defined by the equation in the paper (Definition 2, Bao, Yaojie, et al. (2019).)\n",
    "    hscore = np.trace(np.dot(np.linalg.pinv(Covf), Covg))\n",
    "    return hscore\n"
   ]
  }
 ],
 "metadata": {
  "kernelspec": {
   "display_name": "Python 3 (ipykernel)",
   "language": "python",
   "name": "python3"
  },
  "language_info": {
   "codemirror_mode": {
    "name": "ipython",
    "version": 3
   },
   "file_extension": ".py",
   "mimetype": "text/x-python",
   "name": "python",
   "nbconvert_exporter": "python",
   "pygments_lexer": "ipython3",
   "version": "3.10.9"
  }
 },
 "nbformat": 4,
 "nbformat_minor": 5
}
